{
 "cells": [
  {
   "cell_type": "code",
   "execution_count": 2,
   "id": "e3ac4718",
   "metadata": {},
   "outputs": [
    {
     "name": "stdout",
     "output_type": "stream",
     "text": [
      "[3, 4, 5, 7, 8, 9, 10, 11]\n"
     ]
    }
   ],
   "source": [
    "lista=[1,2,3,5,6,7,8,9]\n",
    "newnum=[]\n",
    "for x in lista:\n",
    "    newnum.append(x+2)\n",
    "print(newnum)"
   ]
  },
  {
   "cell_type": "code",
   "execution_count": 5,
   "id": "f2562515",
   "metadata": {},
   "outputs": [
    {
     "data": {
      "text/plain": [
       "[3, 4, 5, 7, 8, 9, 10, 11]"
      ]
     },
     "execution_count": 5,
     "metadata": {},
     "output_type": "execute_result"
    }
   ],
   "source": [
    "newnum=[x+2 for x in lista]\n",
    "newnum"
   ]
  },
  {
   "cell_type": "code",
   "execution_count": 8,
   "id": "190e6b7a",
   "metadata": {},
   "outputs": [
    {
     "data": {
      "text/plain": [
       "[11, 15, 17]"
      ]
     },
     "execution_count": 8,
     "metadata": {},
     "output_type": "execute_result"
    }
   ],
   "source": [
    "new_sum=[x+9 for x in lista if x%2==0]\n",
    "new_sum"
   ]
  },
  {
   "cell_type": "code",
   "execution_count": 20,
   "id": "60e5e830",
   "metadata": {},
   "outputs": [
    {
     "data": {
      "text/plain": [
       "13"
      ]
     },
     "execution_count": 20,
     "metadata": {},
     "output_type": "execute_result"
    }
   ],
   "source": [
    "lst=[10,9,7,6,4,2,78,98,121,3,54,56,67]\n",
    "sorted_lst=[]\n",
    "length=len(lst)\n",
    "length"
   ]
  },
  {
   "cell_type": "code",
   "execution_count": 24,
   "id": "5144358a",
   "metadata": {},
   "outputs": [],
   "source": [
    "def swap(lst,i,j):\n",
    "    lst[i],lst[j]=lst[j],lst[i]\n"
   ]
  },
  {
   "cell_type": "code",
   "execution_count": 18,
   "id": "c9e9ab1f",
   "metadata": {},
   "outputs": [],
   "source": [
    "def bubble_sort(lst):\n",
    "    for i in range(length):\n",
    "        for j in range(length-i-1):\n",
    "            if(lst[j]>lst[j+1]):\n",
    "                swap(lst,j,j+1)\n",
    "\n",
    "    "
   ]
  },
  {
   "cell_type": "code",
   "execution_count": null,
   "id": "b558da9e",
   "metadata": {},
   "outputs": [
    {
     "name": "stdout",
     "output_type": "stream",
     "text": [
      "None\n"
     ]
    },
    {
     "data": {
      "text/plain": [
       "[2, 3, 4, 6, 7, 9, 10, 54, 56, 67, 78, 98, 121]"
      ]
     },
     "execution_count": 15,
     "metadata": {},
     "output_type": "execute_result"
    }
   ],
   "source": [
    "# lst=[10,9,7,6,4,2,78,98,121,3,54,56,67]\n",
    "# print(bubble_sort(lst))\n",
    "# lst\n"
   ]
  },
  {
   "cell_type": "code",
   "execution_count": 28,
   "id": "529e1a97",
   "metadata": {},
   "outputs": [],
   "source": [
    "def insertion_sort(lst):\n",
    "    for i in range(1,length):\n",
    "        for j in range(i,0,-1):\n",
    "            if(lst[j]<lst[j-1]):\n",
    "                swap(lst,j,j-1)"
   ]
  },
  {
   "cell_type": "code",
   "execution_count": 29,
   "id": "50e912b4",
   "metadata": {},
   "outputs": [
    {
     "data": {
      "text/plain": [
       "[4, 10, 12, 14, 19, 45, 45, 50, 69, 78, 79, 85, 98, 54]"
      ]
     },
     "execution_count": 29,
     "metadata": {},
     "output_type": "execute_result"
    }
   ],
   "source": [
    "lst=[10,50,98,78,45,12,45,4,85,69,14,19,79,54]\n",
    "insertion_sort(lst)\n",
    "lst"
   ]
  },
  {
   "cell_type": "code",
   "execution_count": null,
   "id": "aa510514",
   "metadata": {},
   "outputs": [],
   "source": []
  },
  {
   "cell_type": "code",
   "execution_count": 38,
   "id": "7b77c890",
   "metadata": {},
   "outputs": [],
   "source": [
    "def partition(arr, p, r):\n",
    "    pivot = arr[r]         # pivot is the value, not index\n",
    "    index = p - 1\n",
    "    for i in range(p, r):\n",
    "        if arr[i] <= pivot:       # ✅ correct comparison\n",
    "            index += 1\n",
    "            swap(arr, i, index)\n",
    "    swap(arr, r, index + 1)\n",
    "    return index + 1\n"
   ]
  },
  {
   "cell_type": "code",
   "execution_count": 39,
   "id": "f1dfe021",
   "metadata": {},
   "outputs": [],
   "source": [
    "def quicksort(arr,p,r):\n",
    "    if(p<r):\n",
    "        q=partition(arr,p,r)\n",
    "        quicksort(arr,p,q-1)\n",
    "        quicksort(arr,q+1,r)"
   ]
  },
  {
   "cell_type": "code",
   "execution_count": 40,
   "id": "b06f8ea7",
   "metadata": {},
   "outputs": [
    {
     "name": "stdout",
     "output_type": "stream",
     "text": [
      "Sorted array: [0, 1, 5, 6, 7, 8, 9, 12, 16, 25, 45, 65, 74, 85]\n"
     ]
    }
   ],
   "source": [
    "arr = [1, 12, 0, 5, 6, 7, 8, 9, 85, 45, 65, 74, 25, 16]\n",
    "p = 0                      # Start index\n",
    "r = len(arr) - 1           # End index\n",
    "quicksort(arr, p, r)\n",
    "print(\"Sorted array:\", arr)"
   ]
  },
  {
   "cell_type": "code",
   "execution_count": null,
   "id": "8fdd7251",
   "metadata": {},
   "outputs": [],
   "source": [
    "def partit(arr,p,q,r):\n",
    "    l=q-p+1\n",
    "    m=r-q\n"
   ]
  }
 ],
 "metadata": {
  "kernelspec": {
   "display_name": "Python 3",
   "language": "python",
   "name": "python3"
  },
  "language_info": {
   "codemirror_mode": {
    "name": "ipython",
    "version": 3
   },
   "file_extension": ".py",
   "mimetype": "text/x-python",
   "name": "python",
   "nbconvert_exporter": "python",
   "pygments_lexer": "ipython3",
   "version": "3.10.0"
  }
 },
 "nbformat": 4,
 "nbformat_minor": 5
}
