{
 "cells": [
  {
   "cell_type": "code",
   "execution_count": 2,
   "id": "4ff6df5f",
   "metadata": {},
   "outputs": [],
   "source": [
    "class car:\n",
    "    pass\n",
    "audi=car()\n",
    "bmw=car()"
   ]
  },
  {
   "cell_type": "code",
   "execution_count": 3,
   "id": "fee18485",
   "metadata": {},
   "outputs": [
    {
     "name": "stdout",
     "output_type": "stream",
     "text": [
      "<class '__main__.car'>\n"
     ]
    }
   ],
   "source": [
    "print(type(audi))"
   ]
  },
  {
   "cell_type": "code",
   "execution_count": 4,
   "id": "87617907",
   "metadata": {},
   "outputs": [
    {
     "name": "stdout",
     "output_type": "stream",
     "text": [
      "<__main__.car object at 0x0000019F409BDFF0>\n"
     ]
    }
   ],
   "source": [
    "print(audi)"
   ]
  },
  {
   "cell_type": "code",
   "execution_count": null,
   "id": "0badcc13",
   "metadata": {},
   "outputs": [],
   "source": [
    "audi.windows=4"
   ]
  },
  {
   "cell_type": "code",
   "execution_count": null,
   "id": "f9a03e17",
   "metadata": {},
   "outputs": [],
   "source": []
  },
  {
   "cell_type": "markdown",
   "id": "0dd5d5df",
   "metadata": {},
   "source": [
    "# Instance Variable  and Method"
   ]
  },
  {
   "cell_type": "code",
   "execution_count": 2,
   "id": "b206840e",
   "metadata": {},
   "outputs": [
    {
     "name": "stdout",
     "output_type": "stream",
     "text": [
      "karn\n",
      "<__main__.student object at 0x0000013446B3E0B0>\n"
     ]
    }
   ],
   "source": [
    "class student:\n",
    "    name=\"karn\"\n",
    "s1=student()\n",
    "print(s1.name)\n",
    "print(s1)"
   ]
  },
  {
   "cell_type": "code",
   "execution_count": 3,
   "id": "2e33ec2f",
   "metadata": {},
   "outputs": [
    {
     "name": "stdout",
     "output_type": "stream",
     "text": [
      "karn\n"
     ]
    }
   ],
   "source": [
    "s2=student()\n",
    "print(s2.name)"
   ]
  },
  {
   "cell_type": "markdown",
   "id": "fbda95df",
   "metadata": {},
   "source": [
    "# constructor\n"
   ]
  },
  {
   "cell_type": "code",
   "execution_count": 13,
   "id": "b9b81360",
   "metadata": {},
   "outputs": [
    {
     "name": "stdout",
     "output_type": "stream",
     "text": [
      "hi am constructor\n",
      "<__main__.student object at 0x0000013446D26BF0>\n",
      "<__main__.student object at 0x0000013446D26BF0>\n",
      "karn\n"
     ]
    }
   ],
   "source": [
    "class student:\n",
    "    def __init__(self,fullname):\n",
    "        self.name=fullname\n",
    "        print(\"hi am constructor\")\n",
    "        pass\n",
    "        \n",
    "        print(self)\n",
    "s1=student(\"karn\")\n",
    "\n",
    "print(s1)\n",
    "print(s1.name)"
   ]
  },
  {
   "cell_type": "code",
   "execution_count": 17,
   "id": "422763c4",
   "metadata": {},
   "outputs": [
    {
     "name": "stdout",
     "output_type": "stream",
     "text": [
      "Buddy\n"
     ]
    }
   ],
   "source": [
    "class Dog:\n",
    "    def __init__(self,name,age):\n",
    "        self.name=name\n",
    "        self.age=age\n",
    "D1=Dog(\"Buddy\",3)\n",
    "print(D1.name)"
   ]
  },
  {
   "cell_type": "markdown",
   "id": "7ddbaba9",
   "metadata": {},
   "source": [
    "# Deffine  a Class with Insstance Method"
   ]
  },
  {
   "cell_type": "code",
   "execution_count": 18,
   "id": "2ef6ccb5",
   "metadata": {},
   "outputs": [
    {
     "name": "stdout",
     "output_type": "stream",
     "text": [
      "tilu says woof\n"
     ]
    }
   ],
   "source": [
    "class Dog:\n",
    "    def __init__(self,name,age):\n",
    "        self.name=name\n",
    "        self.age=age\n",
    "    def bark(self):\n",
    "        print(f\"{self.name} says woof\")\n",
    "Dog1=Dog(\"tilu\",18)\n",
    "Dog1.bark()"
   ]
  },
  {
   "cell_type": "code",
   "execution_count": 19,
   "id": "374c3f3b",
   "metadata": {},
   "outputs": [
    {
     "name": "stdout",
     "output_type": "stream",
     "text": [
      "bilu says woof\n"
     ]
    }
   ],
   "source": [
    "Dog2=Dog(\"bilu\",19)\n",
    "Dog2.bark()"
   ]
  },
  {
   "cell_type": "markdown",
   "id": "0510dc35",
   "metadata": {},
   "source": [
    "# Bank System"
   ]
  },
  {
   "cell_type": "code",
   "execution_count": 29,
   "id": "322541dc",
   "metadata": {},
   "outputs": [
    {
     "name": "stdout",
     "output_type": "stream",
     "text": [
      "Tilu\n",
      "1200\n",
      "Your Amout has been deposited Sucessfully1000\n",
      "Now Your current balance is 2200\n",
      "Now Your current balance is 200\n"
     ]
    }
   ],
   "source": [
    "class Bank:\n",
    "    def __init__(self,owner,balance):\n",
    "        self.owner=owner\n",
    "        self.balance=balance\n",
    "    def deposit(self,amount):\n",
    "        self.balance+=amount\n",
    "        print(f\"Your Amout has been deposited Sucessfully{amount}\")\n",
    "        print(f\"Now Your current balance is {self.balance}\")\n",
    "    def withdraw(self,amount):\n",
    "        if self.balance < amount:\n",
    "            print(\"You Have Insufficeint Balance\") \n",
    "        else:\n",
    "            self.balance-=amount \n",
    "            print(f\"Now Your current balance is {self.balance}\")\n",
    "b1=Bank(\"Tilu\",1200)\n",
    "print(b1.owner)  \n",
    "print(b1.balance)  \n",
    "b1.deposit(1000)\n",
    "b1.withdraw(2000)\n"
   ]
  },
  {
   "cell_type": "markdown",
   "id": "65375fe8",
   "metadata": {},
   "source": [
    "# Inheritance\n"
   ]
  },
  {
   "cell_type": "markdown",
   "id": "d98aa01c",
   "metadata": {},
   "source": [
    "Parent class"
   ]
  },
  {
   "cell_type": "code",
   "execution_count": 31,
   "id": "0350fbed",
   "metadata": {},
   "outputs": [],
   "source": [
    "class car():\n",
    "    def __init__(self,windows,doors , engine_type):\n",
    "        self.windows=windows\n",
    "        self.doors=doors\n",
    "        self.engine_type=engine_type\n",
    "    def drive(self):\n",
    "        print(f\"The person will drive the {self.engine_type} car\")"
   ]
  },
  {
   "cell_type": "markdown",
   "id": "7a48a190",
   "metadata": {},
   "source": [
    "Child Class"
   ]
  },
  {
   "cell_type": "code",
   "execution_count": 34,
   "id": "a7121e12",
   "metadata": {},
   "outputs": [],
   "source": [
    "class tesla(car):\n",
    "    def __init__(self,windows,doors , engine_type,auto_drive):\n",
    "        super().__init__(self,windows,doors)\n",
    "        self.auto_drive=auto_drive\n",
    "    def selfdrive(self):\n",
    "        print(f\"this car is self {self.auto_drive}\")\n"
   ]
  },
  {
   "cell_type": "code",
   "execution_count": 35,
   "id": "111e1d56",
   "metadata": {},
   "outputs": [],
   "source": [
    "t1=tesla(4,4,\"electric\",True)"
   ]
  },
  {
   "cell_type": "code",
   "execution_count": 36,
   "id": "c1560969",
   "metadata": {},
   "outputs": [
    {
     "data": {
      "text/plain": [
       "<bound method tesla.selfdrive of <__main__.tesla object at 0x0000013446D4BF10>>"
      ]
     },
     "execution_count": 36,
     "metadata": {},
     "output_type": "execute_result"
    }
   ],
   "source": [
    "t1.selfdrive"
   ]
  },
  {
   "cell_type": "code",
   "execution_count": 37,
   "id": "685c1ec4",
   "metadata": {},
   "outputs": [],
   "source": [
    "class animal:\n",
    "    def __init__(self,name):\n",
    "        self.name=name\n",
    "    def speak(self):\n",
    "        print(\"subclass implleemtnt in the methood\")\n",
    "class pet:\n",
    "    def __init__(self,owner):\n",
    "        self.owner=owner\n",
    "class dog(animal,pet):\n",
    "    def __init_subclass__(self,name,owner):\n",
    "        return super().__init_subclass__()"
   ]
  },
  {
   "cell_type": "code",
   "execution_count": 38,
   "id": "d2073dac",
   "metadata": {},
   "outputs": [
    {
     "ename": "TypeError",
     "evalue": "animal.__init__() takes 2 positional arguments but 3 were given",
     "output_type": "error",
     "traceback": [
      "\u001b[1;31m---------------------------------------------------------------------------\u001b[0m",
      "\u001b[1;31mTypeError\u001b[0m                                 Traceback (most recent call last)",
      "Cell \u001b[1;32mIn[38], line 1\u001b[0m\n\u001b[1;32m----> 1\u001b[0m d1\u001b[38;5;241m=\u001b[39m\u001b[43mdog\u001b[49m\u001b[43m(\u001b[49m\u001b[38;5;124;43m\"\u001b[39;49m\u001b[38;5;124;43mhi\u001b[39;49m\u001b[38;5;124;43m\"\u001b[39;49m\u001b[43m,\u001b[49m\u001b[38;5;124;43m\"\u001b[39;49m\u001b[38;5;124;43mbye\u001b[39;49m\u001b[38;5;124;43m\"\u001b[39;49m\u001b[43m)\u001b[49m\n\u001b[0;32m      2\u001b[0m dog\u001b[38;5;241m.\u001b[39m\u001b[38;5;18m__name__\u001b[39m\n",
      "\u001b[1;31mTypeError\u001b[0m: animal.__init__() takes 2 positional arguments but 3 were given"
     ]
    }
   ],
   "source": [
    "d1=dog(\"hi\",\"bye\")\n",
    "dog.__name__"
   ]
  },
  {
   "cell_type": "code",
   "execution_count": null,
   "id": "07aacc62",
   "metadata": {},
   "outputs": [],
   "source": []
  }
 ],
 "metadata": {
  "kernelspec": {
   "display_name": "Python 3",
   "language": "python",
   "name": "python3"
  },
  "language_info": {
   "codemirror_mode": {
    "name": "ipython",
    "version": 3
   },
   "file_extension": ".py",
   "mimetype": "text/x-python",
   "name": "python",
   "nbconvert_exporter": "python",
   "pygments_lexer": "ipython3",
   "version": "3.10.0"
  }
 },
 "nbformat": 4,
 "nbformat_minor": 5
}
